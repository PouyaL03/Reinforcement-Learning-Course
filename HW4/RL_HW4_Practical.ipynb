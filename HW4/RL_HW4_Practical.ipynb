{
  "cells": [
    {
      "cell_type": "markdown",
      "metadata": {
        "id": "r9HxtwHbk6Pc"
      },
      "source": [
        "# Offline RL (80 Points)\n",
        "\n",
        "> Name: Pouya Lahabi\n",
        "\n",
        "> SID: 400109843\n",
        "\n"
      ]
    },
    {
      "cell_type": "markdown",
      "metadata": {
        "id": "1PJUxRV4MIod"
      },
      "source": [
        "\n",
        "In this notebook, we will implement the Soft Actor Critic (SAC) algorithm on the CartPole environment in both online and offline settings. The SAC framework focuses on maximizing the expected reward while also maximizing entropy, meaning the actor aims to succeed at the task while maintaining a high level of randomness in its actions. This approach explicitly encourages exploration by seeking a high entropy in the policy.\n",
        "\n",
        "In the second part, we will use the policy learned in the first part to collect a dataset of expert trajectories and perform behavioral cloning.\n",
        "\n",
        "*The existing results are the baseline for the quality of your implementation.*"
      ]
    },
    {
      "cell_type": "code",
      "execution_count": 1,
      "metadata": {
        "id": "UC-BecdPmdb3"
      },
      "outputs": [],
      "source": [
        "import torch\n",
        "import torch.nn as nn\n",
        "import torch.nn.functional as F\n",
        "from torch.distributions import Normal\n",
        "import torch.optim as optim\n",
        "import numpy as np\n",
        "import random\n",
        "import gym\n",
        "import matplotlib.pyplot as plt\n",
        "import imageio\n",
        "from tqdm import tqdm\n",
        "\n",
        "\n",
        "seed = 42\n",
        "random.seed(seed)\n",
        "np.random.seed(seed)\n",
        "torch.manual_seed(seed)\n",
        "torch.cuda.manual_seed(seed)\n",
        "torch.backends.cudnn.deterministic = True"
      ]
    },
    {
      "cell_type": "code",
      "execution_count": 2,
      "metadata": {
        "id": "GSpSSRB-zCea"
      },
      "outputs": [],
      "source": [
        "from IPython.display import HTML\n",
        "from base64 import b64encode\n",
        "\n",
        "def show_video(path):\n",
        "    mp4 = open(path, 'rb').read()\n",
        "    data_url = \"data:video/mp4;base64,\" + b64encode(mp4).decode()\n",
        "    return HTML(\"\"\"\n",
        "    <video width=400 controls>\n",
        "          <source src=\"%s\" type=\"video/mp4\">\n",
        "    </video>\n",
        "    \"\"\" % data_url)"
      ]
    },
    {
      "cell_type": "markdown",
      "metadata": {
        "id": "_whWTLZejkm3"
      },
      "source": [
        "## Network Structure (10 points)\n",
        "For constructing SAC agent, we use objects of feedforward neural networks with 3 layers. Complete the code below."
      ]
    },
    {
      "cell_type": "code",
      "execution_count": 21,
      "metadata": {
        "id": "4pxOyt0xh4nN"
      },
      "outputs": [],
      "source": [
        "class Network(torch.nn.Module):\n",
        "\n",
        "    def __init__(self, input_dimension, output_dimension, output_activation=torch.nn.Identity(), hidden_dimension = 64):\n",
        "        super(Network, self).__init__()\n",
        "        ##########################################################\n",
        "        \n",
        "        # Define network layers\n",
        "        ##########################################################\n",
        "\n",
        "        self.fc1 = nn.Linear(input_dimension, hidden_dimension)\n",
        "        self.fc2 = nn.Linear(hidden_dimension, hidden_dimension)\n",
        "        self.fc3 = nn.Linear(hidden_dimension, output_dimension)\n",
        "        self.output_activation = output_activation\n",
        "\n",
        "    def forward(self, inpt):\n",
        "        output = None\n",
        "        ##########################################################\n",
        "        \n",
        "        # Calculate the output\n",
        "        ##########################################################\n",
        "        x = F.relu(self.fc1(inpt))\n",
        "        x = F.relu(self.fc2(x))\n",
        "        x = self.fc3(x)\n",
        "        output = self.output_activation(x)\n",
        "        return output"
      ]
    },
    {
      "cell_type": "markdown",
      "metadata": {
        "id": "DToSGdmDka1u"
      },
      "source": [
        "## Replay Buffer\n",
        "\n",
        "A SAC agent requires a replay buffer to sample previously visited states. You can utilize the implemented code below to set up this replay buffer."
      ]
    },
    {
      "cell_type": "code",
      "execution_count": 22,
      "metadata": {
        "id": "UC7jTwJXh8wl"
      },
      "outputs": [],
      "source": [
        "import numpy as np\n",
        "\n",
        "class ReplayBuffer:\n",
        "\n",
        "    def __init__(self, environment, capacity=500000):\n",
        "        transition_type_str = self.get_transition_type_str(environment)\n",
        "        self.buffer = np.zeros(capacity, dtype=transition_type_str)\n",
        "        self.weights = np.zeros(capacity)\n",
        "        self.head_idx = 0\n",
        "        self.count = 0\n",
        "        self.capacity = capacity\n",
        "        self.max_weight = 1e-2\n",
        "        self.delta = 1e-4\n",
        "        self.indices = None\n",
        "        self.mirror_index = np.random.permutation(range(self.buffer.shape[0]))\n",
        "\n",
        "    def get_transition_type_str(self, environment):\n",
        "        state_dim = environment.observation_space.shape[0]\n",
        "        state_dim_str = '' if state_dim == () else str(state_dim)\n",
        "        state_type_str = environment.observation_space.sample().dtype.name\n",
        "        action_dim = environment.action_space.shape\n",
        "        action_dim_str = '' if action_dim == () else str(action_dim)\n",
        "        action_type_str = environment.action_space.sample().__class__.__name__\n",
        "\n",
        "        transition_type_str = '{0}{1}, {2}{3}, float32, {0}{1}, float32'.format(state_dim_str, state_type_str,\n",
        "                                                                             action_dim_str, action_type_str)\n",
        "\n",
        "        return transition_type_str\n",
        "\n",
        "    def add_transition(self, transition):\n",
        "        self.buffer[self.head_idx] = transition\n",
        "        self.weights[self.head_idx] = self.max_weight\n",
        "\n",
        "        self.head_idx = (self.head_idx + 1) % self.capacity\n",
        "        self.count = min(self.count + 1, self.capacity)\n",
        "\n",
        "    def sample_minibatch(self, size=100, batch_deterministic_start=None):\n",
        "        set_weights = self.weights[:self.count] + self.delta\n",
        "        probabilities = set_weights / sum(set_weights)\n",
        "        if batch_deterministic_start is None:\n",
        "            self.indices = np.random.choice(range(self.count), size, p=probabilities, replace=False)\n",
        "        else:\n",
        "            self.indices = self.mirror_index[batch_deterministic_start:batch_deterministic_start+size]\n",
        "        return self.buffer[self.indices]\n",
        "\n",
        "    def update_weights(self, prediction_errors):\n",
        "        max_error = max(prediction_errors)\n",
        "        self.max_weight = max(self.max_weight, max_error)\n",
        "        self.weights[self.indices] = prediction_errors\n",
        "\n",
        "    def get_size(self):\n",
        "        return self.count"
      ]
    },
    {
      "cell_type": "markdown",
      "metadata": {
        "id": "5wOrt_EmfFFD"
      },
      "source": [
        "## SAC Agent (50 points)"
      ]
    },
    {
      "cell_type": "markdown",
      "metadata": {
        "id": "ScEk94Ubb01W"
      },
      "source": [
        "Now complete the following class. You can use the auxiliary methods provided in the class.\n",
        "\n",
        "\n"
      ]
    },
    {
      "cell_type": "code",
      "execution_count": 29,
      "metadata": {
        "id": "A8bEgUc2hmet"
      },
      "outputs": [],
      "source": [
        "class SACAgent:\n",
        "    def __init__(self, environment, replay_buffer=None, offline=False, learning_rate=3e-3, discount=0.99, buffer_batch_size=100, alpha_init=1, interpolation_factor=0.01):\n",
        "        self.environment = environment\n",
        "        self.state_dim = self.environment.observation_space.shape[0]\n",
        "        self.action_dim = self.environment.action_space.n\n",
        "\n",
        "        self.alpha_init = alpha_init\n",
        "        self.learning_rate = learning_rate\n",
        "        self.discount = discount\n",
        "        self.buffer_batch_size = buffer_batch_size\n",
        "        self.interpolation_factor = interpolation_factor\n",
        "\n",
        "        self.replay_buffer = ReplayBuffer(self.environment) if replay_buffer is None else replay_buffer\n",
        "        self.offline = offline\n",
        "\n",
        "        ##########################################################\n",
        "        \n",
        "        # Define critics usig implemented feed forward netwrok\n",
        "        ##########################################################\n",
        "        self.critic_local = Network(self.state_dim, 1)\n",
        "        self.critic_local2 = Network(self.state_dim, 1)\n",
        "        self.critic_target = Network(self.state_dim, 1)\n",
        "        self.critic_target2 = Network(self.state_dim, 1)\n",
        "\n",
        "        self.critic_optimiser = torch.optim.Adam(self.critic_local.parameters(), lr=self.learning_rate)\n",
        "        self.critic_optimiser2 = torch.optim.Adam(self.critic_local2.parameters(), lr=self.learning_rate)\n",
        "        ##########################################################\n",
        "\n",
        "        self.soft_update_target_networks(tau=1.)\n",
        "\n",
        "        ##########################################################\n",
        "        \n",
        "        # Define the actor\n",
        "        # Define the actor optimizer\n",
        "        ##########################################################\n",
        "        self.actor_local = Network(self.state_dim, self.action_dim, output_activation=torch.nn.Softmax(dim=-1))\n",
        "        self.actor_optimiser = torch.optim.Adam(self.actor_local.parameters(), lr=self.learning_rate)\n",
        "        ##########################################################\n",
        "        self.target_entropy = 0.98 * -np.log(1 / self.environment.action_space.n)\n",
        "        self.log_alpha = torch.tensor(np.log(self.alpha_init), requires_grad=True)\n",
        "        self.alpha = self.log_alpha\n",
        "        self.alpha_optimiser = torch.optim.Adam([self.log_alpha], lr=self.learning_rate)\n",
        "\n",
        "    def get_next_action(self, state, evaluation_episode=False):\n",
        "        if evaluation_episode:\n",
        "            discrete_action = self.get_action_deterministically(state)\n",
        "        else:\n",
        "            discrete_action = self.get_action_nondeterministically(state)\n",
        "        return discrete_action\n",
        "\n",
        "    def get_action_nondeterministically(self, state):\n",
        "        action_probabilities = self.get_action_probabilities(state)\n",
        "        discrete_action = np.random.choice(range(self.action_dim), p=action_probabilities)\n",
        "        return discrete_action\n",
        "\n",
        "    def get_action_deterministically(self, state):\n",
        "        action_probabilities = self.get_action_probabilities(state)\n",
        "        discrete_action = np.argmax(action_probabilities)\n",
        "        return discrete_action\n",
        "\n",
        "    def critic_loss(self, states_tensor, actions_tensor, rewards_tensor,\n",
        "                    next_states_tensor, done_tensor):\n",
        "        ##########################################################\n",
        "        \n",
        "        # calculate critic losses\n",
        "        ##########################################################\n",
        "        next_action_probs, next_log_action_probs = self.get_action_info(states_tensor)\n",
        "        next_log_action_probs = next_log_action_probs.gather(1, actions_tensor.unsqueeze(1)).view(-1)\n",
        "\n",
        "        next_q1 = self.critic_target(next_states_tensor).view(-1)\n",
        "        next_q2 = self.critic_target2(next_states_tensor).view(-1)\n",
        "\n",
        "        next_q = torch.min(next_q1, next_q2) - self.alpha * next_log_action_probs\n",
        "        target_q = rewards_tensor + self.discount * (1 - done_tensor) * next_q\n",
        "\n",
        "        current_q1 = self.critic_local(states_tensor).view(-1)\n",
        "        current_q2 = self.critic_local2(states_tensor).view(-1)\n",
        "\n",
        "        critic_loss1 = F.mse_loss(current_q1, target_q)\n",
        "        critic_loss2 = F.mse_loss(current_q2, target_q)\n",
        "\n",
        "        return critic_loss1, critic_loss2\n",
        "        ##########################################################\n",
        "\n",
        "    def actor_loss(self, states_tensor, actions_tensor):\n",
        "        ##########################################################\n",
        "        \n",
        "        # Implement the actor loss\n",
        "        ##########################################################\n",
        "        action_probabilities, log_action_probabilities = self.get_action_info(states_tensor)\n",
        "\n",
        "        log_action_probabilities = log_action_probabilities.gather(1, actions_tensor.unsqueeze(1)).view(-1)\n",
        "\n",
        "        q1 = self.critic_local(states_tensor)\n",
        "        q2 = self.critic_local2(states_tensor)\n",
        "        q = torch.min(q1, q2).view(-1)\n",
        "\n",
        "        actor_loss = (self.alpha * log_action_probabilities - q).mean()\n",
        "\n",
        "        return actor_loss, log_action_probabilities\n",
        "        ##########################################################\n",
        "\n",
        "    def train_on_transition(self, state, discrete_action, next_state, reward, done):\n",
        "        transition = (state, discrete_action, reward, next_state, done)\n",
        "        self.train_networks(transition)\n",
        "\n",
        "    def train_networks(self, transition=None, batch_deterministic_start=None):\n",
        "        ##########################################################\n",
        "        \n",
        "        # Set all the gradients stored in the optimizers to zero\n",
        "        # Add the new transition to the replay buffer for online case\n",
        "        ##########################################################\n",
        "        self.critic_optimiser.zero_grad()\n",
        "        self.critic_optimiser2.zero_grad()\n",
        "        self.actor_optimiser.zero_grad()\n",
        "        self.alpha_optimiser.zero_grad()\n",
        "\n",
        "        if transition is not None and not self.offline:\n",
        "            self.replay_buffer.add_transition(transition)\n",
        "\n",
        "        if self.replay_buffer.get_size() >= self.buffer_batch_size:\n",
        "            minibatch = self.replay_buffer.sample_minibatch(self.buffer_batch_size, batch_deterministic_start=batch_deterministic_start)\n",
        "            minibatch_separated = list(map(list, zip(*minibatch)))\n",
        "\n",
        "            states_tensor = torch.tensor(np.array(minibatch_separated[0]))\n",
        "            actions_tensor = torch.tensor(np.array(minibatch_separated[1]))\n",
        "            rewards_tensor = torch.tensor(np.array(minibatch_separated[2])).float()\n",
        "            next_states_tensor = torch.tensor(np.array(minibatch_separated[3]))\n",
        "            done_tensor = torch.tensor(np.array(minibatch_separated[4]))\n",
        "\n",
        "\n",
        "            ##########################################################\n",
        "            \n",
        "            # compute the critic loss and perform the backpropagation,\n",
        "            # compute the actor loss and backpropagate the gradient\n",
        "            # update \\alpha\n",
        "            ##########################################################\n",
        "\n",
        "            critic_loss1, critic_loss2 = self.critic_loss(states_tensor, actions_tensor, rewards_tensor, next_states_tensor, done_tensor)\n",
        "            critic_loss1.backward(retain_graph = True)\n",
        "            critic_loss2.backward(retain_graph = True)\n",
        "            self.critic_optimiser.step()\n",
        "            self.critic_optimiser2.step()\n",
        "\n",
        "            actor_loss, log_action_probabilities = self.actor_loss(states_tensor, actions_tensor)\n",
        "            actor_loss.backward()\n",
        "            self.actor_optimiser.step()\n",
        "\n",
        "            alpha_loss = self.temperature_loss(log_action_probabilities)\n",
        "            alpha_loss.backward()\n",
        "            self.alpha_optimiser.step()\n",
        "\n",
        "            self.alpha = self.log_alpha.exp()\n",
        "\n",
        "            self.soft_update_target_networks(self.interpolation_factor)\n",
        "\n",
        "    def temperature_loss(self, log_action_probabilities):\n",
        "        alpha_loss = -(self.log_alpha * (log_action_probabilities + self.target_entropy).detach()).mean()\n",
        "        return alpha_loss\n",
        "\n",
        "    def get_action_info(self, states_tensor):\n",
        "        action_probabilities = self.actor_local.forward(states_tensor)\n",
        "        z = action_probabilities == 0.0\n",
        "        z = z.float() * 1e-8\n",
        "        log_action_probabilities = torch.log(action_probabilities + z)\n",
        "        return action_probabilities, log_action_probabilities\n",
        "\n",
        "    def get_action_probabilities(self, state):\n",
        "        state_tensor = torch.tensor(state, dtype=torch.float32).unsqueeze(0)\n",
        "        action_probabilities = self.actor_local.forward(state_tensor)\n",
        "        if torch.isnan(action_probabilities).any():\n",
        "          print(\"NaN values in action_probabilities\")\n",
        "          print(action_probabilities)\n",
        "        return action_probabilities.squeeze(0).detach().numpy()\n",
        "\n",
        "    def soft_update_target_networks(self, tau):\n",
        "        self.soft_update(self.critic_target, self.critic_local, tau)\n",
        "        self.soft_update(self.critic_target2, self.critic_local2, tau)\n",
        "\n",
        "    def soft_update(self, target_model, origin_model, tau):\n",
        "        for target_param, local_param in zip(target_model.parameters(), origin_model.parameters()):\n",
        "            target_param.data.copy_(tau * local_param.data + (1 - tau) * target_param.data)\n",
        "\n",
        "    def predict_q_values(self, state, action):\n",
        "        q_values = self.critic_local(state)\n",
        "        q_values2 = self.critic_local2(state)\n",
        "        return torch.min(q_values, q_values2)"
      ]
    },
    {
      "cell_type": "markdown",
      "metadata": {
        "id": "X7Tx4pS_kdo-"
      },
      "source": [
        "## Online SAC (10 points)"
      ]
    },
    {
      "cell_type": "markdown",
      "metadata": {
        "id": "jUm9_qfAlvf_"
      },
      "source": [
        "Now evaluate your model in CartPole environment in the online setting. After each 4 episodes, you should evaluate your model on a separate test environment. Run your model 4 times separately and plot the mean and deviation of the evaluation curves.\n",
        "\n",
        "**NOTE:** Since you are going to use the replay buffer of this agent as the offline dataset, you may want to save it for later use."
      ]
    },
    {
      "cell_type": "code",
      "execution_count": 33,
      "metadata": {
        "colab": {
          "base_uri": "https://localhost:8080/",
          "height": 1000
        },
        "id": "c6quXtBzZ6nZ",
        "outputId": "b3c6b56d-46d3-4c71-a316-10c60def099d"
      },
      "outputs": [
        {
          "name": "stdout",
          "output_type": "stream",
          "text": [
            "Starting run 1/4\n"
          ]
        },
        {
          "name": "stderr",
          "output_type": "stream",
          "text": [
            "\r  0%|          | 0/200 [00:00<?, ?it/s]"
          ]
        },
        {
          "name": "stdout",
          "output_type": "stream",
          "text": [
            "Episode 0: Evaluation Reward = 14.90\n"
          ]
        },
        {
          "name": "stderr",
          "output_type": "stream",
          "text": [
            "\r  2%|▎         | 5/200 [00:00<00:10, 19.18it/s]"
          ]
        },
        {
          "name": "stdout",
          "output_type": "stream",
          "text": [
            "Episode 4: Evaluation Reward = 9.50\n"
          ]
        },
        {
          "name": "stderr",
          "output_type": "stream",
          "text": [
            "  4%|▍         | 9/200 [00:00<00:17, 10.72it/s]"
          ]
        },
        {
          "name": "stdout",
          "output_type": "stream",
          "text": [
            "Episode 8: Evaluation Reward = 9.50\n"
          ]
        },
        {
          "name": "stderr",
          "output_type": "stream",
          "text": [
            "  6%|▋         | 13/200 [00:01<00:27,  6.73it/s]"
          ]
        },
        {
          "name": "stdout",
          "output_type": "stream",
          "text": [
            "Episode 12: Evaluation Reward = 18.60\n"
          ]
        },
        {
          "name": "stderr",
          "output_type": "stream",
          "text": [
            "  9%|▉         | 18/200 [00:02<00:40,  4.53it/s]"
          ]
        },
        {
          "name": "stdout",
          "output_type": "stream",
          "text": [
            "Episode 16: Evaluation Reward = 26.20\n"
          ]
        },
        {
          "name": "stderr",
          "output_type": "stream",
          "text": [
            " 11%|█         | 22/200 [00:03<00:36,  4.85it/s]"
          ]
        },
        {
          "name": "stdout",
          "output_type": "stream",
          "text": [
            "Episode 20: Evaluation Reward = 25.90\n"
          ]
        },
        {
          "name": "stderr",
          "output_type": "stream",
          "text": [
            " 13%|█▎        | 26/200 [00:04<00:33,  5.21it/s]"
          ]
        },
        {
          "name": "stdout",
          "output_type": "stream",
          "text": [
            "Episode 24: Evaluation Reward = 61.10\n"
          ]
        },
        {
          "name": "stderr",
          "output_type": "stream",
          "text": [
            " 14%|█▍        | 29/200 [00:05<00:50,  3.39it/s]"
          ]
        },
        {
          "name": "stdout",
          "output_type": "stream",
          "text": [
            "Episode 28: Evaluation Reward = 184.10\n"
          ]
        },
        {
          "name": "stderr",
          "output_type": "stream",
          "text": [
            " 17%|█▋        | 34/200 [00:06<00:35,  4.74it/s]"
          ]
        },
        {
          "name": "stdout",
          "output_type": "stream",
          "text": [
            "Episode 32: Evaluation Reward = 161.50\n"
          ]
        },
        {
          "name": "stderr",
          "output_type": "stream",
          "text": [
            " 18%|█▊        | 37/200 [00:07<00:40,  3.98it/s]"
          ]
        },
        {
          "name": "stdout",
          "output_type": "stream",
          "text": [
            "Episode 36: Evaluation Reward = 145.60\n"
          ]
        },
        {
          "name": "stderr",
          "output_type": "stream",
          "text": [
            " 21%|██        | 42/200 [00:08<00:42,  3.73it/s]"
          ]
        },
        {
          "name": "stdout",
          "output_type": "stream",
          "text": [
            "Episode 40: Evaluation Reward = 91.40\n"
          ]
        },
        {
          "name": "stderr",
          "output_type": "stream",
          "text": [
            " 23%|██▎       | 46/200 [00:09<00:40,  3.84it/s]"
          ]
        },
        {
          "name": "stdout",
          "output_type": "stream",
          "text": [
            "Episode 44: Evaluation Reward = 164.30\n"
          ]
        },
        {
          "name": "stderr",
          "output_type": "stream",
          "text": [
            " 25%|██▌       | 50/200 [00:10<00:32,  4.57it/s]"
          ]
        },
        {
          "name": "stdout",
          "output_type": "stream",
          "text": [
            "Episode 48: Evaluation Reward = 111.90\n"
          ]
        },
        {
          "name": "stderr",
          "output_type": "stream",
          "text": [
            " 27%|██▋       | 54/200 [00:11<00:42,  3.47it/s]"
          ]
        },
        {
          "name": "stdout",
          "output_type": "stream",
          "text": [
            "Episode 52: Evaluation Reward = 199.90\n"
          ]
        },
        {
          "name": "stderr",
          "output_type": "stream",
          "text": [
            " 28%|██▊       | 57/200 [00:13<01:02,  2.29it/s]"
          ]
        },
        {
          "name": "stdout",
          "output_type": "stream",
          "text": [
            "Episode 56: Evaluation Reward = 200.00\n"
          ]
        },
        {
          "name": "stderr",
          "output_type": "stream",
          "text": [
            " 30%|███       | 61/200 [00:16<01:55,  1.20it/s]"
          ]
        },
        {
          "name": "stdout",
          "output_type": "stream",
          "text": [
            "Episode 60: Evaluation Reward = 167.70\n"
          ]
        },
        {
          "name": "stderr",
          "output_type": "stream",
          "text": [
            " 32%|███▎      | 65/200 [00:21<02:48,  1.25s/it]"
          ]
        },
        {
          "name": "stdout",
          "output_type": "stream",
          "text": [
            "Episode 64: Evaluation Reward = 200.00\n"
          ]
        },
        {
          "name": "stderr",
          "output_type": "stream",
          "text": [
            " 34%|███▍      | 69/200 [00:28<03:48,  1.74s/it]"
          ]
        },
        {
          "name": "stdout",
          "output_type": "stream",
          "text": [
            "Episode 68: Evaluation Reward = 200.00\n"
          ]
        },
        {
          "name": "stderr",
          "output_type": "stream",
          "text": [
            " 36%|███▋      | 73/200 [00:33<03:16,  1.55s/it]"
          ]
        },
        {
          "name": "stdout",
          "output_type": "stream",
          "text": [
            "Episode 72: Evaluation Reward = 200.00\n"
          ]
        },
        {
          "name": "stderr",
          "output_type": "stream",
          "text": [
            " 38%|███▊      | 77/200 [00:40<03:24,  1.66s/it]"
          ]
        },
        {
          "name": "stdout",
          "output_type": "stream",
          "text": [
            "Episode 76: Evaluation Reward = 200.00\n"
          ]
        },
        {
          "name": "stderr",
          "output_type": "stream",
          "text": [
            " 40%|████      | 81/200 [00:47<03:42,  1.87s/it]"
          ]
        },
        {
          "name": "stdout",
          "output_type": "stream",
          "text": [
            "Episode 80: Evaluation Reward = 200.00\n"
          ]
        },
        {
          "name": "stderr",
          "output_type": "stream",
          "text": [
            " 42%|████▎     | 85/200 [00:54<03:34,  1.86s/it]"
          ]
        },
        {
          "name": "stdout",
          "output_type": "stream",
          "text": [
            "Episode 84: Evaluation Reward = 200.00\n"
          ]
        },
        {
          "name": "stderr",
          "output_type": "stream",
          "text": [
            " 44%|████▍     | 89/200 [01:02<03:26,  1.86s/it]"
          ]
        },
        {
          "name": "stdout",
          "output_type": "stream",
          "text": [
            "Episode 88: Evaluation Reward = 200.00\n"
          ]
        },
        {
          "name": "stderr",
          "output_type": "stream",
          "text": [
            " 46%|████▋     | 93/200 [01:09<03:27,  1.94s/it]"
          ]
        },
        {
          "name": "stdout",
          "output_type": "stream",
          "text": [
            "Episode 92: Evaluation Reward = 200.00\n"
          ]
        },
        {
          "name": "stderr",
          "output_type": "stream",
          "text": [
            " 48%|████▊     | 97/200 [01:18<03:31,  2.05s/it]"
          ]
        },
        {
          "name": "stdout",
          "output_type": "stream",
          "text": [
            "Episode 96: Evaluation Reward = 200.00\n"
          ]
        },
        {
          "name": "stderr",
          "output_type": "stream",
          "text": [
            " 50%|█████     | 101/200 [01:24<02:47,  1.69s/it]"
          ]
        },
        {
          "name": "stdout",
          "output_type": "stream",
          "text": [
            "Episode 100: Evaluation Reward = 200.00\n"
          ]
        },
        {
          "name": "stderr",
          "output_type": "stream",
          "text": [
            " 52%|█████▎    | 105/200 [01:32<03:04,  1.94s/it]"
          ]
        },
        {
          "name": "stdout",
          "output_type": "stream",
          "text": [
            "Episode 104: Evaluation Reward = 200.00\n"
          ]
        },
        {
          "name": "stderr",
          "output_type": "stream",
          "text": [
            " 55%|█████▍    | 109/200 [01:40<03:14,  2.13s/it]"
          ]
        },
        {
          "name": "stdout",
          "output_type": "stream",
          "text": [
            "Episode 108: Evaluation Reward = 200.00\n"
          ]
        },
        {
          "name": "stderr",
          "output_type": "stream",
          "text": [
            " 56%|█████▋    | 113/200 [01:48<03:09,  2.18s/it]"
          ]
        },
        {
          "name": "stdout",
          "output_type": "stream",
          "text": [
            "Episode 112: Evaluation Reward = 200.00\n"
          ]
        },
        {
          "name": "stderr",
          "output_type": "stream",
          "text": [
            " 58%|█████▊    | 117/200 [01:57<02:59,  2.17s/it]"
          ]
        },
        {
          "name": "stdout",
          "output_type": "stream",
          "text": [
            "Episode 116: Evaluation Reward = 200.00\n"
          ]
        },
        {
          "name": "stderr",
          "output_type": "stream",
          "text": [
            " 60%|██████    | 121/200 [02:06<02:58,  2.25s/it]"
          ]
        },
        {
          "name": "stdout",
          "output_type": "stream",
          "text": [
            "Episode 120: Evaluation Reward = 200.00\n"
          ]
        },
        {
          "name": "stderr",
          "output_type": "stream",
          "text": [
            " 62%|██████▎   | 125/200 [02:13<02:31,  2.02s/it]"
          ]
        },
        {
          "name": "stdout",
          "output_type": "stream",
          "text": [
            "Episode 124: Evaluation Reward = 200.00\n"
          ]
        },
        {
          "name": "stderr",
          "output_type": "stream",
          "text": [
            " 64%|██████▍   | 129/200 [02:22<02:28,  2.08s/it]"
          ]
        },
        {
          "name": "stdout",
          "output_type": "stream",
          "text": [
            "Episode 128: Evaluation Reward = 200.00\n"
          ]
        },
        {
          "name": "stderr",
          "output_type": "stream",
          "text": [
            " 66%|██████▋   | 133/200 [02:31<02:32,  2.27s/it]"
          ]
        },
        {
          "name": "stdout",
          "output_type": "stream",
          "text": [
            "Episode 132: Evaluation Reward = 200.00\n"
          ]
        },
        {
          "name": "stderr",
          "output_type": "stream",
          "text": [
            " 68%|██████▊   | 137/200 [02:40<02:34,  2.46s/it]"
          ]
        },
        {
          "name": "stdout",
          "output_type": "stream",
          "text": [
            "Episode 136: Evaluation Reward = 200.00\n"
          ]
        },
        {
          "name": "stderr",
          "output_type": "stream",
          "text": [
            " 70%|███████   | 141/200 [02:50<02:22,  2.41s/it]"
          ]
        },
        {
          "name": "stdout",
          "output_type": "stream",
          "text": [
            "Episode 140: Evaluation Reward = 200.00\n"
          ]
        },
        {
          "name": "stderr",
          "output_type": "stream",
          "text": [
            " 72%|███████▎  | 145/200 [02:59<02:07,  2.33s/it]"
          ]
        },
        {
          "name": "stdout",
          "output_type": "stream",
          "text": [
            "Episode 144: Evaluation Reward = 200.00\n"
          ]
        },
        {
          "name": "stderr",
          "output_type": "stream",
          "text": [
            " 74%|███████▍  | 149/200 [03:09<02:00,  2.36s/it]"
          ]
        },
        {
          "name": "stdout",
          "output_type": "stream",
          "text": [
            "Episode 148: Evaluation Reward = 200.00\n"
          ]
        },
        {
          "name": "stderr",
          "output_type": "stream",
          "text": [
            " 76%|███████▋  | 153/200 [03:18<01:52,  2.40s/it]"
          ]
        },
        {
          "name": "stdout",
          "output_type": "stream",
          "text": [
            "Episode 152: Evaluation Reward = 200.00\n"
          ]
        },
        {
          "name": "stderr",
          "output_type": "stream",
          "text": [
            " 78%|███████▊  | 157/200 [03:27<01:48,  2.52s/it]"
          ]
        },
        {
          "name": "stdout",
          "output_type": "stream",
          "text": [
            "Episode 156: Evaluation Reward = 200.00\n"
          ]
        },
        {
          "name": "stderr",
          "output_type": "stream",
          "text": [
            " 80%|████████  | 161/200 [03:37<01:32,  2.37s/it]"
          ]
        },
        {
          "name": "stdout",
          "output_type": "stream",
          "text": [
            "Episode 160: Evaluation Reward = 200.00\n"
          ]
        },
        {
          "name": "stderr",
          "output_type": "stream",
          "text": [
            " 82%|████████▎ | 165/200 [03:47<01:29,  2.55s/it]"
          ]
        },
        {
          "name": "stdout",
          "output_type": "stream",
          "text": [
            "Episode 164: Evaluation Reward = 200.00\n"
          ]
        },
        {
          "name": "stderr",
          "output_type": "stream",
          "text": [
            " 84%|████████▍ | 169/200 [03:57<01:18,  2.52s/it]"
          ]
        },
        {
          "name": "stdout",
          "output_type": "stream",
          "text": [
            "Episode 168: Evaluation Reward = 200.00\n"
          ]
        },
        {
          "name": "stderr",
          "output_type": "stream",
          "text": [
            " 86%|████████▋ | 173/200 [04:07<01:09,  2.57s/it]"
          ]
        },
        {
          "name": "stdout",
          "output_type": "stream",
          "text": [
            "Episode 172: Evaluation Reward = 200.00\n"
          ]
        },
        {
          "name": "stderr",
          "output_type": "stream",
          "text": [
            " 88%|████████▊ | 177/200 [04:17<01:01,  2.66s/it]"
          ]
        },
        {
          "name": "stdout",
          "output_type": "stream",
          "text": [
            "Episode 176: Evaluation Reward = 200.00\n"
          ]
        },
        {
          "name": "stderr",
          "output_type": "stream",
          "text": [
            " 90%|█████████ | 181/200 [04:27<00:49,  2.60s/it]"
          ]
        },
        {
          "name": "stdout",
          "output_type": "stream",
          "text": [
            "Episode 180: Evaluation Reward = 200.00\n"
          ]
        },
        {
          "name": "stderr",
          "output_type": "stream",
          "text": [
            " 92%|█████████▎| 185/200 [04:37<00:37,  2.52s/it]"
          ]
        },
        {
          "name": "stdout",
          "output_type": "stream",
          "text": [
            "Episode 184: Evaluation Reward = 200.00\n"
          ]
        },
        {
          "name": "stderr",
          "output_type": "stream",
          "text": [
            " 94%|█████████▍| 189/200 [04:48<00:29,  2.71s/it]"
          ]
        },
        {
          "name": "stdout",
          "output_type": "stream",
          "text": [
            "Episode 188: Evaluation Reward = 200.00\n"
          ]
        },
        {
          "name": "stderr",
          "output_type": "stream",
          "text": [
            " 96%|█████████▋| 193/200 [04:58<00:18,  2.66s/it]"
          ]
        },
        {
          "name": "stdout",
          "output_type": "stream",
          "text": [
            "Episode 192: Evaluation Reward = 200.00\n"
          ]
        },
        {
          "name": "stderr",
          "output_type": "stream",
          "text": [
            " 98%|█████████▊| 197/200 [05:09<00:08,  2.68s/it]"
          ]
        },
        {
          "name": "stdout",
          "output_type": "stream",
          "text": [
            "Episode 196: Evaluation Reward = 200.00\n"
          ]
        },
        {
          "name": "stderr",
          "output_type": "stream",
          "text": [
            "100%|██████████| 200/200 [05:17<00:00,  1.59s/it]\n"
          ]
        },
        {
          "name": "stdout",
          "output_type": "stream",
          "text": [
            "Run 1 completed\n"
          ]
        },
        {
          "data": {
            "image/png": "[encoded data removed]",
            "text/plain": [
              "<Figure size 1000x500 with 1 Axes>"
            ]
          },
          "metadata": {},
          "output_type": "display_data"
        }
      ],
      "source": [
        "TRAINING_EVALUATION_RATIO = 4\n",
        "EPISODES_PER_RUN = 200\n",
        "STEPS_PER_EPISODE = 200\n",
        "NUM_RUNS = 1\n",
        "\n",
        "env = gym.make(\"CartPole-v1\")\n",
        "\n",
        "##########################################################\n",
        "\n",
        "# Implement the training loop for the online SAC.\n",
        "# After each epoch, run validation\n",
        "# and plot the mean return over these\n",
        "# episodes in the end\n",
        "# Plot the learning curves\n",
        "##########################################################\n",
        "\n",
        "agent = SACAgent(env, learning_rate=5e-3, buffer_batch_size=100)\n",
        "\n",
        "def run_episode(env, agent, train=True):\n",
        "    state = env.reset()\n",
        "    total_reward = 0\n",
        "    for _ in range(STEPS_PER_EPISODE):\n",
        "        action = agent.get_next_action(state, evaluation_episode=not train)\n",
        "        next_state, reward, done, _ = env.step(action)\n",
        "        if train:\n",
        "            agent.train_on_transition(state, action, next_state, reward, done)\n",
        "        total_reward += reward\n",
        "        state = next_state\n",
        "        if done:\n",
        "            break\n",
        "    return total_reward\n",
        "\n",
        "training_rewards = []\n",
        "evaluation_rewards = []\n",
        "\n",
        "for run in range(NUM_RUNS):\n",
        "    print(f\"Starting run {run + 1}/4\")\n",
        "    run_training_rewards = []\n",
        "    run_evaluation_rewards = []\n",
        "    for episode in tqdm(range(EPISODES_PER_RUN)):\n",
        "        train_reward = run_episode(env, agent, train=True)\n",
        "        run_training_rewards.append(train_reward)\n",
        "\n",
        "        if episode % TRAINING_EVALUATION_RATIO == 0:\n",
        "            eval_rewards = [run_episode(env, agent, train=False) for _ in range(10)]\n",
        "            mean_eval_reward = np.mean(eval_rewards)\n",
        "            run_evaluation_rewards.append(mean_eval_reward)\n",
        "            print(f\"Episode {episode}: Evaluation Reward = {mean_eval_reward:.2f}\")\n",
        "\n",
        "    training_rewards.append(run_training_rewards)\n",
        "    evaluation_rewards.append(run_evaluation_rewards)\n",
        "    print(f\"Run {run + 1} completed\")\n",
        "\n",
        "evaluation_rewards = np.array(evaluation_rewards)\n",
        "\n",
        "mean_evaluation_rewards = np.mean(evaluation_rewards, axis=0)\n",
        "std_evaluation_rewards = np.std(evaluation_rewards, axis=0)\n",
        "\n",
        "## Save the replay buffer to use later\n",
        "np.save(\"replay_buffer.npy\", agent.replay_buffer.buffer)\n",
        "\n",
        "plt.figure(figsize=(10, 5))\n",
        "plt.plot(np.arange(0, EPISODES_PER_RUN, TRAINING_EVALUATION_RATIO), mean_evaluation_rewards, label='Mean Evaluation Rewards')\n",
        "plt.fill_between(np.arange(0, EPISODES_PER_RUN, TRAINING_EVALUATION_RATIO), mean_evaluation_rewards - std_evaluation_rewards, mean_evaluation_rewards + std_evaluation_rewards, alpha=0.2)\n",
        "plt.xlabel('Episode')\n",
        "plt.ylabel('Reward')\n",
        "plt.title('Evaluation Rewards')\n",
        "plt.legend()\n",
        "plt.tight_layout()\n",
        "plt.show()\n"
      ]
    },
    {
      "cell_type": "code",
      "execution_count": 34,
      "metadata": {
        "id": "67byWhvztylc"
      },
      "outputs": [],
      "source": [
        "## Save the replay buffer\n",
        "\n",
        "online_replay_buffer = agent.replay_buffer"
      ]
    },
    {
      "cell_type": "code",
      "execution_count": 35,
      "metadata": {
        "colab": {
          "base_uri": "https://localhost:8080/",
          "height": 434
        },
        "id": "Ge2uIJtGzGUW",
        "outputId": "544318ed-61c5-41ec-9d19-9566ed52bce9"
      },
      "outputs": [
        {
          "name": "stderr",
          "output_type": "stream",
          "text": [
            "/usr/local/lib/python3.10/dist-packages/gym/core.py:317: DeprecationWarning: \u001b[33mWARN: Initializing wrapper in old step API which returns one bool instead of two. It is recommended to set `new_step_api=True` to use new step API. This will be the default behaviour in future.\u001b[0m\n",
            "  deprecation(\n",
            "/usr/local/lib/python3.10/dist-packages/gym/wrappers/step_api_compatibility.py:39: DeprecationWarning: \u001b[33mWARN: Initializing environment in old step API which returns one bool instead of two. It is recommended to set `new_step_api=True` to use new step API. This will be the default behaviour in future.\u001b[0m\n",
            "  deprecation(\n",
            "/usr/local/lib/python3.10/dist-packages/gym/utils/passive_env_checker.py:241: DeprecationWarning: `np.bool8` is a deprecated alias for `np.bool_`.  (Deprecated NumPy 1.24)\n",
            "  if not isinstance(terminated, (bool, np.bool8)):\n",
            "WARNING:imageio_ffmpeg:IMAGEIO FFMPEG_WRITER WARNING: input image is not divisible by macro_block_size=16, resizing from (600, 400) to (608, 400) to ensure video compatibility with most codecs and players. To prevent resizing, make your input image divisible by the macro_block_size or set the macro_block_size to 1 (risking incompatibility).\n"
          ]
        },
        {
          "data": {
            "text/html": [
              "\n",
              "    <video width=400 controls>\n",
              "          <source src=\"data:video/mp4;base64,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\" type=\"video/mp4\">\n",
              "    </video>\n",
              "    "
            ],
            "text/plain": [
              "<IPython.core.display.HTML object>"
            ]
          },
          "execution_count": 35,
          "metadata": {},
          "output_type": "execute_result"
        }
      ],
      "source": [
        "env = gym.make(\"CartPole-v1\", render_mode=\"rgb_array\")\n",
        "frames = []\n",
        "\n",
        "state = env.reset()\n",
        "for _ in range(100):\n",
        "    frames.append(env.render()[0])\n",
        "    action = agent.get_next_action(state, evaluation_episode=True)\n",
        "    state, reward, done, info = env.step(action)\n",
        "    if done:\n",
        "        break\n",
        "\n",
        "env.close()\n",
        "imageio.mimsave('./online.mp4', frames, fps=25)\n",
        "show_video('./online.mp4')"
      ]
    },
    {
      "cell_type": "markdown",
      "metadata": {
        "id": "WxqbDN6DU0AY"
      },
      "source": [
        "## Offline SAC (10 points)"
      ]
    },
    {
      "cell_type": "markdown",
      "metadata": {
        "id": "QRwciG6WU6ES"
      },
      "source": [
        "In this part you are going to train an SAC agent using the replay buffer from the online agent. During training you sample from this replay buffer and train the offline agent **without adding transitions to the replay buffer**. The loss function and every thing else is the same as the online setting."
      ]
    },
    {
      "cell_type": "code",
      "execution_count": 36,
      "metadata": {
        "colab": {
          "base_uri": "https://localhost:8080/",
          "height": 1000
        },
        "id": "AcArEy_EU5H0",
        "outputId": "f6ee0c99-dadb-45bb-ea56-4a664004aa82"
      },
      "outputs": [
        {
          "name": "stderr",
          "output_type": "stream",
          "text": [
            "/usr/local/lib/python3.10/dist-packages/ipykernel/ipkernel.py:283: DeprecationWarning: `should_run_async` will not call `transform_cell` automatically in the future. Please pass the result to `transformed_cell` argument and any exception that happen during thetransform in `preprocessing_exc_tuple` in IPython 7.17 and above.\n",
            "  and should_run_async(code)\n",
            "/usr/local/lib/python3.10/dist-packages/gym/core.py:317: DeprecationWarning: \u001b[33mWARN: Initializing wrapper in old step API which returns one bool instead of two. It is recommended to set `new_step_api=True` to use new step API. This will be the default behaviour in future.\u001b[0m\n",
            "  deprecation(\n",
            "/usr/local/lib/python3.10/dist-packages/gym/wrappers/step_api_compatibility.py:39: DeprecationWarning: \u001b[33mWARN: Initializing environment in old step API which returns one bool instead of two. It is recommended to set `new_step_api=True` to use new step API. This will be the default behaviour in future.\u001b[0m\n",
            "  deprecation(\n"
          ]
        },
        {
          "name": "stdout",
          "output_type": "stream",
          "text": [
            "Starting run 1/4\n"
          ]
        },
        {
          "name": "stderr",
          "output_type": "stream",
          "text": [
            "\r  0%|          | 0/100 [00:00<?, ?it/s]/usr/local/lib/python3.10/dist-packages/gym/utils/passive_env_checker.py:241: DeprecationWarning: `np.bool8` is a deprecated alias for `np.bool_`.  (Deprecated NumPy 1.24)\n",
            "  if not isinstance(terminated, (bool, np.bool8)):\n",
            "  1%|          | 1/100 [00:00<00:35,  2.75it/s]"
          ]
        },
        {
          "name": "stdout",
          "output_type": "stream",
          "text": [
            "Episode 0: Evaluation Reward = 15.50\n"
          ]
        },
        {
          "name": "stderr",
          "output_type": "stream",
          "text": [
            "  5%|▌         | 5/100 [00:01<00:23,  3.99it/s]"
          ]
        },
        {
          "name": "stdout",
          "output_type": "stream",
          "text": [
            "Episode 4: Evaluation Reward = 9.40\n"
          ]
        },
        {
          "name": "stderr",
          "output_type": "stream",
          "text": [
            " 10%|█         | 10/100 [00:02<00:20,  4.37it/s]"
          ]
        },
        {
          "name": "stdout",
          "output_type": "stream",
          "text": [
            "Episode 8: Evaluation Reward = 8.90\n"
          ]
        },
        {
          "name": "stderr",
          "output_type": "stream",
          "text": [
            " 13%|█▎        | 13/100 [00:03<00:18,  4.72it/s]"
          ]
        },
        {
          "name": "stdout",
          "output_type": "stream",
          "text": [
            "Episode 12: Evaluation Reward = 9.30\n"
          ]
        },
        {
          "name": "stderr",
          "output_type": "stream",
          "text": [
            " 18%|█▊        | 18/100 [00:04<00:15,  5.37it/s]"
          ]
        },
        {
          "name": "stdout",
          "output_type": "stream",
          "text": [
            "Episode 16: Evaluation Reward = 8.80\n"
          ]
        },
        {
          "name": "stderr",
          "output_type": "stream",
          "text": [
            " 21%|██        | 21/100 [00:04<00:19,  4.11it/s]"
          ]
        },
        {
          "name": "stdout",
          "output_type": "stream",
          "text": [
            "Episode 20: Evaluation Reward = 9.20\n"
          ]
        },
        {
          "name": "stderr",
          "output_type": "stream",
          "text": [
            " 25%|██▌       | 25/100 [00:05<00:17,  4.19it/s]"
          ]
        },
        {
          "name": "stdout",
          "output_type": "stream",
          "text": [
            "Episode 24: Evaluation Reward = 10.40\n"
          ]
        },
        {
          "name": "stderr",
          "output_type": "stream",
          "text": [
            " 30%|███       | 30/100 [00:07<00:18,  3.84it/s]"
          ]
        },
        {
          "name": "stdout",
          "output_type": "stream",
          "text": [
            "Episode 28: Evaluation Reward = 11.60\n"
          ]
        },
        {
          "name": "stderr",
          "output_type": "stream",
          "text": [
            " 33%|███▎      | 33/100 [00:08<00:20,  3.32it/s]"
          ]
        },
        {
          "name": "stdout",
          "output_type": "stream",
          "text": [
            "Episode 32: Evaluation Reward = 9.40\n"
          ]
        },
        {
          "name": "stderr",
          "output_type": "stream",
          "text": [
            " 37%|███▋      | 37/100 [00:10<00:26,  2.41it/s]"
          ]
        },
        {
          "name": "stdout",
          "output_type": "stream",
          "text": [
            "Episode 36: Evaluation Reward = 9.30\n"
          ]
        },
        {
          "name": "stderr",
          "output_type": "stream",
          "text": [
            " 41%|████      | 41/100 [00:11<00:19,  3.07it/s]"
          ]
        },
        {
          "name": "stdout",
          "output_type": "stream",
          "text": [
            "Episode 40: Evaluation Reward = 9.50\n"
          ]
        },
        {
          "name": "stderr",
          "output_type": "stream",
          "text": [
            " 45%|████▌     | 45/100 [00:12<00:17,  3.19it/s]"
          ]
        },
        {
          "name": "stdout",
          "output_type": "stream",
          "text": [
            "Episode 44: Evaluation Reward = 9.30\n"
          ]
        },
        {
          "name": "stderr",
          "output_type": "stream",
          "text": [
            " 49%|████▉     | 49/100 [00:14<00:28,  1.79it/s]"
          ]
        },
        {
          "name": "stdout",
          "output_type": "stream",
          "text": [
            "Episode 48: Evaluation Reward = 9.60\n"
          ]
        },
        {
          "name": "stderr",
          "output_type": "stream",
          "text": [
            " 54%|█████▍    | 54/100 [00:17<00:20,  2.20it/s]"
          ]
        },
        {
          "name": "stdout",
          "output_type": "stream",
          "text": [
            "Episode 52: Evaluation Reward = 108.90\n"
          ]
        },
        {
          "name": "stderr",
          "output_type": "stream",
          "text": [
            " 57%|█████▋    | 57/100 [00:19<00:25,  1.66it/s]"
          ]
        },
        {
          "name": "stdout",
          "output_type": "stream",
          "text": [
            "Episode 56: Evaluation Reward = 197.60\n"
          ]
        },
        {
          "name": "stderr",
          "output_type": "stream",
          "text": [
            " 61%|██████    | 61/100 [00:23<00:45,  1.16s/it]"
          ]
        },
        {
          "name": "stdout",
          "output_type": "stream",
          "text": [
            "Episode 60: Evaluation Reward = 200.00\n"
          ]
        },
        {
          "name": "stderr",
          "output_type": "stream",
          "text": [
            " 65%|██████▌   | 65/100 [00:29<00:52,  1.49s/it]"
          ]
        },
        {
          "name": "stdout",
          "output_type": "stream",
          "text": [
            "Episode 64: Evaluation Reward = 200.00\n"
          ]
        },
        {
          "name": "stderr",
          "output_type": "stream",
          "text": [
            " 69%|██████▉   | 69/100 [00:37<00:59,  1.92s/it]"
          ]
        },
        {
          "name": "stdout",
          "output_type": "stream",
          "text": [
            "Episode 68: Evaluation Reward = 200.00\n"
          ]
        },
        {
          "name": "stderr",
          "output_type": "stream",
          "text": [
            " 73%|███████▎  | 73/100 [00:48<01:06,  2.48s/it]"
          ]
        },
        {
          "name": "stdout",
          "output_type": "stream",
          "text": [
            "Episode 72: Evaluation Reward = 200.00\n"
          ]
        },
        {
          "name": "stderr",
          "output_type": "stream",
          "text": [
            " 77%|███████▋  | 77/100 [00:59<01:01,  2.69s/it]"
          ]
        },
        {
          "name": "stdout",
          "output_type": "stream",
          "text": [
            "Episode 76: Evaluation Reward = 200.00\n"
          ]
        },
        {
          "name": "stderr",
          "output_type": "stream",
          "text": [
            " 81%|████████  | 81/100 [01:10<00:52,  2.74s/it]"
          ]
        },
        {
          "name": "stdout",
          "output_type": "stream",
          "text": [
            "Episode 80: Evaluation Reward = 200.00\n"
          ]
        },
        {
          "name": "stderr",
          "output_type": "stream",
          "text": [
            " 85%|████████▌ | 85/100 [01:22<00:42,  2.84s/it]"
          ]
        },
        {
          "name": "stdout",
          "output_type": "stream",
          "text": [
            "Episode 84: Evaluation Reward = 200.00\n"
          ]
        },
        {
          "name": "stderr",
          "output_type": "stream",
          "text": [
            " 89%|████████▉ | 89/100 [01:33<00:31,  2.83s/it]"
          ]
        },
        {
          "name": "stdout",
          "output_type": "stream",
          "text": [
            "Episode 88: Evaluation Reward = 200.00\n"
          ]
        },
        {
          "name": "stderr",
          "output_type": "stream",
          "text": [
            " 93%|█████████▎| 93/100 [01:45<00:19,  2.84s/it]"
          ]
        },
        {
          "name": "stdout",
          "output_type": "stream",
          "text": [
            "Episode 92: Evaluation Reward = 200.00\n"
          ]
        },
        {
          "name": "stderr",
          "output_type": "stream",
          "text": [
            " 97%|█████████▋| 97/100 [01:56<00:08,  2.88s/it]"
          ]
        },
        {
          "name": "stdout",
          "output_type": "stream",
          "text": [
            "Episode 96: Evaluation Reward = 200.00\n"
          ]
        },
        {
          "name": "stderr",
          "output_type": "stream",
          "text": [
            "100%|██████████| 100/100 [02:02<00:00,  1.23s/it]\n"
          ]
        },
        {
          "name": "stdout",
          "output_type": "stream",
          "text": [
            "Run 1 completed\n"
          ]
        },
        {
          "data": {
            "image/png": "[encoded data removed]",
            "text/plain": [
              "<Figure size 1000x500 with 1 Axes>"
            ]
          },
          "metadata": {},
          "output_type": "display_data"
        }
      ],
      "source": [
        "NUM_EPOCHS = 200\n",
        "EPISODES_PER_RUN = 100\n",
        "NUM_RUNS = 1\n",
        "\n",
        "env = gym.make(\"CartPole-v1\")\n",
        "\n",
        "##########################################################\n",
        "\n",
        "# Implement the training loop for the offline SAC.\n",
        "# After each epoch, run  validation\n",
        "# and plot the mean return over these\n",
        "# episodes in the end\n",
        "##########################################################\n",
        "\n",
        "offline_agent = SACAgent(env, learning_rate=5e-3, buffer_batch_size=100, replay_buffer = online_replay_buffer, offline = True)\n",
        "\n",
        "training_rewards = []\n",
        "evaluation_rewards = []\n",
        "\n",
        "for run in range(NUM_RUNS):\n",
        "    print(f\"Starting run {run + 1}/4\")\n",
        "    run_training_rewards = []\n",
        "    run_evaluation_rewards = []\n",
        "    for episode in tqdm(range(EPISODES_PER_RUN)):\n",
        "    # for episode in range(EPISODES_PER_RUN):\n",
        "        train_reward = run_episode(env, offline_agent, train=True)\n",
        "        run_training_rewards.append(train_reward)\n",
        "\n",
        "        if episode % TRAINING_EVALUATION_RATIO == 0:\n",
        "            eval_rewards = [run_episode(env, offline_agent, train=False) for _ in range(10)]\n",
        "            mean_eval_reward = np.mean(eval_rewards)\n",
        "            run_evaluation_rewards.append(mean_eval_reward)\n",
        "            print(f\"Episode {episode}: Evaluation Reward = {mean_eval_reward:.2f}\")\n",
        "\n",
        "    training_rewards.append(run_training_rewards)\n",
        "    evaluation_rewards.append(run_evaluation_rewards)\n",
        "    print(f\"Run {run + 1} completed\")\n",
        "\n",
        "evaluation_rewards = np.array(evaluation_rewards)\n",
        "\n",
        "mean_evaluation_rewards = np.mean(evaluation_rewards, axis=0)\n",
        "std_evaluation_rewards = np.std(evaluation_rewards, axis=0)\n",
        "\n",
        "\n",
        "plt.figure(figsize=(10, 5))\n",
        "plt.plot(np.arange(0, EPISODES_PER_RUN, TRAINING_EVALUATION_RATIO), mean_evaluation_rewards, label='Mean Evaluation Rewards')\n",
        "plt.fill_between(np.arange(0, EPISODES_PER_RUN, TRAINING_EVALUATION_RATIO), mean_evaluation_rewards - std_evaluation_rewards, mean_evaluation_rewards + std_evaluation_rewards, alpha=0.2)\n",
        "plt.xlabel('Episode')\n",
        "plt.ylabel('Reward')\n",
        "plt.title('Evaluation Rewards')\n",
        "plt.legend()\n",
        "plt.tight_layout()\n",
        "plt.show()"
      ]
    },
    {
      "cell_type": "code",
      "execution_count": 38,
      "metadata": {
        "colab": {
          "base_uri": "https://localhost:8080/",
          "height": 470
        },
        "id": "UQCpir_G2tIP",
        "outputId": "68b4a4fc-aed5-4440-e56d-3d77bd4cc4bc"
      },
      "outputs": [
        {
          "name": "stderr",
          "output_type": "stream",
          "text": [
            "/usr/local/lib/python3.10/dist-packages/ipykernel/ipkernel.py:283: DeprecationWarning: `should_run_async` will not call `transform_cell` automatically in the future. Please pass the result to `transformed_cell` argument and any exception that happen during thetransform in `preprocessing_exc_tuple` in IPython 7.17 and above.\n",
            "  and should_run_async(code)\n",
            "/usr/local/lib/python3.10/dist-packages/gym/core.py:317: DeprecationWarning: \u001b[33mWARN: Initializing wrapper in old step API which returns one bool instead of two. It is recommended to set `new_step_api=True` to use new step API. This will be the default behaviour in future.\u001b[0m\n",
            "  deprecation(\n",
            "/usr/local/lib/python3.10/dist-packages/gym/wrappers/step_api_compatibility.py:39: DeprecationWarning: \u001b[33mWARN: Initializing environment in old step API which returns one bool instead of two. It is recommended to set `new_step_api=True` to use new step API. This will be the default behaviour in future.\u001b[0m\n",
            "  deprecation(\n",
            "/usr/local/lib/python3.10/dist-packages/gym/utils/passive_env_checker.py:241: DeprecationWarning: `np.bool8` is a deprecated alias for `np.bool_`.  (Deprecated NumPy 1.24)\n",
            "  if not isinstance(terminated, (bool, np.bool8)):\n",
            "WARNING:imageio_ffmpeg:IMAGEIO FFMPEG_WRITER WARNING: input image is not divisible by macro_block_size=16, resizing from (600, 400) to (608, 400) to ensure video compatibility with most codecs and players. To prevent resizing, make your input image divisible by the macro_block_size or set the macro_block_size to 1 (risking incompatibility).\n"
          ]
        },
        {
          "data": {
            "text/html": [
              "\n",
              "    <video width=400 controls>\n",
              "          <source src=\"data:video/mp4;base64,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\" type=\"video/mp4\">\n",
              "    </video>\n",
              "    "
            ],
            "text/plain": [
              "<IPython.core.display.HTML object>"
            ]
          },
          "execution_count": 38,
          "metadata": {},
          "output_type": "execute_result"
        }
      ],
      "source": [
        "env = gym.make(\"CartPole-v1\", render_mode=\"rgb_array\")\n",
        "frames = []\n",
        "\n",
        "state = env.reset()\n",
        "for _ in range(100):\n",
        "    frames.append(env.render()[0])\n",
        "    action = offline_agent.get_next_action(state, evaluation_episode=True)\n",
        "    state, reward, done, info = env.step(action)\n",
        "    if done:\n",
        "        break\n",
        "env.close()\n",
        "imageio.mimsave('./offline.mp4', frames, fps=25)\n",
        "show_video('./offline.mp4')"
      ]
    },
    {
      "cell_type": "markdown",
      "metadata": {
        "id": "WtI9ifQeSG2O"
      },
      "source": [
        " # Behavioural Cloning (20 points)\n",
        "\n",
        "Behavioral cloning works by mimicking expert behavior through supervised learning. It involves collecting a dataset of expert trajectories, which are sequences of state-action pairs (unlike offline reinforcement learning, which also collects rewards to train the model). The model is then trained to predict the expert's actions based on the observed states. The goal is for the model to replicate the expert's behavior by minimizing the difference between its predicted actions and the expert's actions."
      ]
    },
    {
      "cell_type": "markdown",
      "metadata": {
        "id": "TEGow3ZtSex2"
      },
      "source": [
        "We first need to collect data using the previously trained model."
      ]
    },
    {
      "cell_type": "code",
      "execution_count": 40,
      "metadata": {
        "colab": {
          "base_uri": "https://localhost:8080/"
        },
        "id": "83vk-JHqSdqV",
        "outputId": "775f3464-3b45-4bfa-d096-d776fe01afa3"
      },
      "outputs": [
        {
          "name": "stderr",
          "output_type": "stream",
          "text": [
            "  0%|          | 0/1000 [00:00<?, ?it/s]/usr/local/lib/python3.10/dist-packages/gym/utils/passive_env_checker.py:241: DeprecationWarning: `np.bool8` is a deprecated alias for `np.bool_`.  (Deprecated NumPy 1.24)\n",
            "  if not isinstance(terminated, (bool, np.bool8)):\n",
            "100%|██████████| 1000/1000 [02:00<00:00,  8.31it/s]\n"
          ]
        }
      ],
      "source": [
        "env = gym.make('CartPole-v1')\n",
        "num_episodes = 1000\n",
        "expert_data = []\n",
        "\n",
        "\n",
        "# Collect state-action pairs\n",
        "for episode in tqdm(range(num_episodes)):\n",
        "    done = False\n",
        "    state = env.reset()\n",
        "    while not done:\n",
        "        action = offline_agent.get_next_action(state, evaluation_episode=True)\n",
        "        next_state, reward, done, info = env.step(action)\n",
        "        expert_data.append((state, action))\n",
        "        state = next_state\n",
        "\n",
        "expert_data = np.array(expert_data, dtype=object)\n"
      ]
    },
    {
      "cell_type": "code",
      "execution_count": 45,
      "metadata": {
        "colab": {
          "base_uri": "https://localhost:8080/"
        },
        "id": "v3ePPOYt2iit",
        "outputId": "303f5ba7-1847-4921-bd95-53c50511aebd"
      },
      "outputs": [
        {
          "name": "stdout",
          "output_type": "stream",
          "text": [
            "0\n"
          ]
        }
      ],
      "source": [
        "# print(expert_data[0][1])"
      ]
    },
    {
      "cell_type": "markdown",
      "metadata": {
        "id": "TzBsilklUdV_"
      },
      "source": [
        "Define the model for behaviuoral cloning."
      ]
    },
    {
      "cell_type": "code",
      "execution_count": 46,
      "metadata": {
        "id": "Xojov1LeUl_F"
      },
      "outputs": [],
      "source": [
        "class BCModel(nn.Module):\n",
        "    def __init__(self, input_dimension, hidden_dimension, output_dimension):\n",
        "        super(BCModel, self).__init__()\n",
        "        \n",
        "        # Define the model\n",
        "        self.fc1 = nn.Linear(input_dimension, hidden_dimension)\n",
        "        self.fc2 = nn.Linear(hidden_dimension, output_dimension)\n",
        "\n",
        "    def forward(self, x):\n",
        "        \n",
        "        # Perform forward pass\n",
        "        x = F.relu(self.fc1(x))\n",
        "        output = self.fc2(x)\n",
        "        return output"
      ]
    },
    {
      "cell_type": "markdown",
      "metadata": {
        "id": "2_guGo3XvrCH"
      },
      "source": [
        "In this section, we implement the training loop for behavioral cloning. During each iteration, we sample a minibatch of state-action pairs from the expert dataset. This minibatch is then used to update the model."
      ]
    },
    {
      "cell_type": "code",
      "execution_count": 49,
      "metadata": {
        "colab": {
          "base_uri": "https://localhost:8080/"
        },
        "id": "ZxLrpNIpg2Mu",
        "outputId": "57744fd0-3b9a-4b5f-a530-572f9bf1df81"
      },
      "outputs": [
        {
          "name": "stderr",
          "output_type": "stream",
          "text": [
            "  5%|▌         | 1/20 [00:13<04:25, 13.97s/it]"
          ]
        },
        {
          "name": "stdout",
          "output_type": "stream",
          "text": [
            "Epoch 1/20, Loss: 2194.0845045628957\n"
          ]
        },
        {
          "name": "stderr",
          "output_type": "stream",
          "text": [
            "\r 10%|█         | 2/20 [00:27<04:11, 13.97s/it]"
          ]
        },
        {
          "name": "stdout",
          "output_type": "stream",
          "text": [
            "Epoch 2/20, Loss: 1025.3090421232919\n"
          ]
        },
        {
          "name": "stderr",
          "output_type": "stream",
          "text": [
            "\r 15%|█▌        | 3/20 [00:42<03:59, 14.07s/it]"
          ]
        },
        {
          "name": "stdout",
          "output_type": "stream",
          "text": [
            "Epoch 3/20, Loss: 766.3259847222289\n"
          ]
        },
        {
          "name": "stderr",
          "output_type": "stream",
          "text": [
            "\r 20%|██        | 4/20 [00:55<03:43, 13.97s/it]"
          ]
        },
        {
          "name": "stdout",
          "output_type": "stream",
          "text": [
            "Epoch 4/20, Loss: 633.899472497279\n"
          ]
        },
        {
          "name": "stderr",
          "output_type": "stream",
          "text": [
            "\r 25%|██▌       | 5/20 [01:09<03:28, 13.93s/it]"
          ]
        },
        {
          "name": "stdout",
          "output_type": "stream",
          "text": [
            "Epoch 5/20, Loss: 538.9127571523189\n"
          ]
        },
        {
          "name": "stderr",
          "output_type": "stream",
          "text": [
            "\r 30%|███       | 6/20 [01:23<03:15, 13.95s/it]"
          ]
        },
        {
          "name": "stdout",
          "output_type": "stream",
          "text": [
            "Epoch 6/20, Loss: 468.5211976207943\n"
          ]
        },
        {
          "name": "stderr",
          "output_type": "stream",
          "text": [
            "\r 35%|███▌      | 7/20 [01:38<03:06, 14.31s/it]"
          ]
        },
        {
          "name": "stdout",
          "output_type": "stream",
          "text": [
            "Epoch 7/20, Loss: 420.1847641534242\n"
          ]
        },
        {
          "name": "stderr",
          "output_type": "stream",
          "text": [
            "\r 40%|████      | 8/20 [01:52<02:49, 14.16s/it]"
          ]
        },
        {
          "name": "stdout",
          "output_type": "stream",
          "text": [
            "Epoch 8/20, Loss: 386.0569548885797\n"
          ]
        },
        {
          "name": "stderr",
          "output_type": "stream",
          "text": [
            "\r 45%|████▌     | 9/20 [02:06<02:35, 14.13s/it]"
          ]
        },
        {
          "name": "stdout",
          "output_type": "stream",
          "text": [
            "Epoch 9/20, Loss: 362.5301060074321\n"
          ]
        },
        {
          "name": "stderr",
          "output_type": "stream",
          "text": [
            "\r 50%|█████     | 10/20 [02:20<02:21, 14.13s/it]"
          ]
        },
        {
          "name": "stdout",
          "output_type": "stream",
          "text": [
            "Epoch 10/20, Loss: 342.39156705735326\n"
          ]
        },
        {
          "name": "stderr",
          "output_type": "stream",
          "text": [
            "\r 55%|█████▌    | 11/20 [02:35<02:07, 14.20s/it]"
          ]
        },
        {
          "name": "stdout",
          "output_type": "stream",
          "text": [
            "Epoch 11/20, Loss: 320.4398796494471\n"
          ]
        },
        {
          "name": "stderr",
          "output_type": "stream",
          "text": [
            "\r 60%|██████    | 12/20 [02:49<01:53, 14.15s/it]"
          ]
        },
        {
          "name": "stdout",
          "output_type": "stream",
          "text": [
            "Epoch 12/20, Loss: 303.9954712318172\n"
          ]
        },
        {
          "name": "stderr",
          "output_type": "stream",
          "text": [
            "\r 65%|██████▌   | 13/20 [03:03<01:39, 14.17s/it]"
          ]
        },
        {
          "name": "stdout",
          "output_type": "stream",
          "text": [
            "Epoch 13/20, Loss: 292.1517201785885\n"
          ]
        },
        {
          "name": "stderr",
          "output_type": "stream",
          "text": [
            "\r 70%|███████   | 14/20 [03:18<01:25, 14.32s/it]"
          ]
        },
        {
          "name": "stdout",
          "output_type": "stream",
          "text": [
            "Epoch 14/20, Loss: 281.92917501209445\n"
          ]
        },
        {
          "name": "stderr",
          "output_type": "stream",
          "text": [
            "\r 75%|███████▌  | 15/20 [03:32<01:11, 14.36s/it]"
          ]
        },
        {
          "name": "stdout",
          "output_type": "stream",
          "text": [
            "Epoch 15/20, Loss: 274.0447481806068\n"
          ]
        },
        {
          "name": "stderr",
          "output_type": "stream",
          "text": [
            "\r 80%|████████  | 16/20 [03:46<00:57, 14.30s/it]"
          ]
        },
        {
          "name": "stdout",
          "output_type": "stream",
          "text": [
            "Epoch 16/20, Loss: 265.9530966651119\n"
          ]
        },
        {
          "name": "stderr",
          "output_type": "stream",
          "text": [
            "\r 85%|████████▌ | 17/20 [04:00<00:42, 14.21s/it]"
          ]
        },
        {
          "name": "stdout",
          "output_type": "stream",
          "text": [
            "Epoch 17/20, Loss: 259.11632294555824\n"
          ]
        },
        {
          "name": "stderr",
          "output_type": "stream",
          "text": [
            "\r 90%|█████████ | 18/20 [04:14<00:28, 14.12s/it]"
          ]
        },
        {
          "name": "stdout",
          "output_type": "stream",
          "text": [
            "Epoch 18/20, Loss: 251.15500762604006\n"
          ]
        },
        {
          "name": "stderr",
          "output_type": "stream",
          "text": [
            "\r 95%|█████████▌| 19/20 [04:28<00:14, 14.05s/it]"
          ]
        },
        {
          "name": "stdout",
          "output_type": "stream",
          "text": [
            "Epoch 19/20, Loss: 245.94484080111732\n"
          ]
        },
        {
          "name": "stderr",
          "output_type": "stream",
          "text": [
            "100%|██████████| 20/20 [04:43<00:00, 14.15s/it]"
          ]
        },
        {
          "name": "stdout",
          "output_type": "stream",
          "text": [
            "Epoch 20/20, Loss: 240.73990178753155\n"
          ]
        },
        {
          "name": "stderr",
          "output_type": "stream",
          "text": [
            "\n"
          ]
        }
      ],
      "source": [
        "\n",
        "input_dimension = env.observation_space.shape[0]\n",
        "hidden_dimension = 64\n",
        "output_dimension = env.action_space.n\n",
        "\n",
        "bc_model = BCModel(input_dimension= input_dimension, hidden_dimension= hidden_dimension, output_dimension= output_dimension)\n",
        "criterion = nn.CrossEntropyLoss()\n",
        "optimizer = optim.Adam(bc_model.parameters(), lr=1e-3)\n",
        "\n",
        "num_epochs = 20\n",
        "batch_size = 32\n",
        "\n",
        "states = np.array([data[0] for data in expert_data])\n",
        "actions = np.array([data[1] for data in expert_data])\n",
        "\n",
        "for epoch in tqdm(range(num_epochs)):\n",
        "    total_loss = 0\n",
        "    \n",
        "    # Implement behavioural cloning training loop\n",
        "\n",
        "    permutation = np.random.permutation(len(states))\n",
        "    shuffled_states = states[permutation]\n",
        "    shuffled_actions = actions[permutation]\n",
        "\n",
        "    for i in range(0, len(states), batch_size):\n",
        "        batch_states = torch.tensor(shuffled_states[i:i+batch_size], dtype=torch.float32)\n",
        "        batch_actions = torch.tensor(shuffled_actions[i:i+batch_size], dtype=torch.long)\n",
        "\n",
        "        optimizer.zero_grad()\n",
        "        predicted_actions = bc_model(batch_states)\n",
        "\n",
        "        loss = criterion(predicted_actions, batch_actions)\n",
        "        total_loss += loss.item()\n",
        "\n",
        "        loss.backward()\n",
        "        optimizer.step()\n",
        "\n",
        "    print(f'Epoch {epoch+1}/{num_epochs}, Loss: {total_loss}')"
      ]
    },
    {
      "cell_type": "markdown",
      "metadata": {
        "id": "eAe_p1uTw7uP"
      },
      "source": [
        "Evaluate and render the results."
      ]
    },
    {
      "cell_type": "code",
      "execution_count": 51,
      "metadata": {
        "colab": {
          "base_uri": "https://localhost:8080/",
          "height": 470
        },
        "id": "LL1Qik9DhJh0",
        "outputId": "f8336415-6eb6-41c9-c116-081fabf2f280"
      },
      "outputs": [
        {
          "name": "stderr",
          "output_type": "stream",
          "text": [
            "/usr/local/lib/python3.10/dist-packages/ipykernel/ipkernel.py:283: DeprecationWarning: `should_run_async` will not call `transform_cell` automatically in the future. Please pass the result to `transformed_cell` argument and any exception that happen during thetransform in `preprocessing_exc_tuple` in IPython 7.17 and above.\n",
            "  and should_run_async(code)\n",
            "/usr/local/lib/python3.10/dist-packages/gym/core.py:317: DeprecationWarning: \u001b[33mWARN: Initializing wrapper in old step API which returns one bool instead of two. It is recommended to set `new_step_api=True` to use new step API. This will be the default behaviour in future.\u001b[0m\n",
            "  deprecation(\n",
            "/usr/local/lib/python3.10/dist-packages/gym/wrappers/step_api_compatibility.py:39: DeprecationWarning: \u001b[33mWARN: Initializing environment in old step API which returns one bool instead of two. It is recommended to set `new_step_api=True` to use new step API. This will be the default behaviour in future.\u001b[0m\n",
            "  deprecation(\n",
            "/usr/local/lib/python3.10/dist-packages/gym/utils/passive_env_checker.py:241: DeprecationWarning: `np.bool8` is a deprecated alias for `np.bool_`.  (Deprecated NumPy 1.24)\n",
            "  if not isinstance(terminated, (bool, np.bool8)):\n",
            "WARNING:imageio_ffmpeg:IMAGEIO FFMPEG_WRITER WARNING: input image is not divisible by macro_block_size=16, resizing from (600, 400) to (608, 400) to ensure video compatibility with most codecs and players. To prevent resizing, make your input image divisible by the macro_block_size or set the macro_block_size to 1 (risking incompatibility).\n"
          ]
        },
        {
          "data": {
            "text/html": [
              "\n",
              "    <video width=400 controls>\n",
              "          <source src=\"data:video/mp4;base64,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\" type=\"video/mp4\">\n",
              "    </video>\n",
              "    "
            ],
            "text/plain": [
              "<IPython.core.display.HTML object>"
            ]
          },
          "execution_count": 51,
          "metadata": {},
          "output_type": "execute_result"
        }
      ],
      "source": [
        "env = gym.make(\"CartPole-v1\", render_mode=\"rgb_array\")\n",
        "frames = []\n",
        "\n",
        "state = env.reset()\n",
        "for _ in range(100):\n",
        "    frames.append(env.render()[0])\n",
        "    state = torch.tensor(state).unsqueeze(0)\n",
        "    action = torch.argmax(bc_model(state), dim=1).item()\n",
        "    state, reward, done, info = env.step(action)\n",
        "    if done:\n",
        "        break\n",
        "env.close()\n",
        "imageio.mimsave('./bc.mp4', frames, fps=25)\n",
        "show_video('./bc.mp4')"
      ]
    }
  ],
  "metadata": {
    "accelerator": "GPU",
    "colab": {
      "gpuType": "T4",
      "provenance": []
    },
    "kernelspec": {
      "display_name": "Python 3",
      "name": "python3"
    },
    "language_info": {
      "codemirror_mode": {
        "name": "ipython",
        "version": 3
      },
      "file_extension": ".py",
      "mimetype": "text/x-python",
      "name": "python",
      "nbconvert_exporter": "python",
      "pygments_lexer": "ipython3",
      "version": "3.10.4"
    }
  },
  "nbformat": 4,
  "nbformat_minor": 0
}
